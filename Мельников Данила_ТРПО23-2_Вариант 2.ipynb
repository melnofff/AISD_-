{
 "cells": [
  {
   "cell_type": "markdown",
   "metadata": {},
   "source": [
    "### Контрольная работа № 1.\n",
    "### Вариант 2.\n",
    "#### Студент Мельников Данила группа ТРПО23-2"
   ]
  },
  {
   "cell_type": "markdown",
   "metadata": {},
   "source": [
    "1. Напишите программу, которая выполняет добавление, удаление и вывод на экран элементов списка при помощи классов. \n",
    "\n",
    "Решение задачи\n",
    "\n",
    "1.\tСоздаем класс и с помощью конструктора инициализируем значения этого класса.\n",
    "2.\tСоздаем в данном классе методы для добавления, удаления и вывода на экран соответствующих значений.\n",
    "3.\tСоздаем объект данного класса.\n",
    "4.\tИспользуя созданный объект, вызываем соответствующий метод (в зависимости от выбора пользователя).\n",
    "5.\tВыводим результат на экран.\n",
    "6.\tКонец.\n",
    "\n",
    "В программе реализовать выбор с помощью меню:\n",
    "\n",
    "print(\"0. Выход\")\n",
    "\n",
    "print(\"1. Добавить\")\n",
    "\n",
    "print(\"2. Удалить\")\n",
    "\n",
    "print(\"3. Вывести на экран\")\n",
    "\n",
    "choice = int(input(\"Выберите одно из этих значений: \"))\n",
    "\n"
   ]
  },
  {
   "cell_type": "code",
   "execution_count": null,
   "metadata": {},
   "outputs": [
    {
     "name": "stdout",
     "output_type": "stream",
     "text": [
      "0. Выход\n",
      "1. Добавить\n",
      "2. Удалить\n",
      "3. Вывести на экран\n"
     ]
    }
   ],
   "source": [
    "# Решение 1.\n",
    "class ListOperations:\n",
    "    def __init__(self):\n",
    "        self.my_list = []\n",
    "\n",
    "    def add_element(self, element):\n",
    "        self.my_list.append(element)\n",
    "\n",
    "    def remove_element(self, element):\n",
    "        if element in self.my_list:\n",
    "            self.my_list.remove(element)\n",
    "        else:\n",
    "            print('Элемент не найден в листе')\n",
    "\n",
    "    def display_list(self):\n",
    "        print(\"Элементы листа:\")\n",
    "        for element in self.my_list:\n",
    "            print(element)\n",
    "\n",
    "my_list_operations = ListOperations()\n",
    "\n",
    "while True:\n",
    "    print(\"0. Выход\")\n",
    "    print(\"1. Добавить\")\n",
    "    print(\"2. Удалить\")\n",
    "    print(\"3. Вывести на экран\")\n",
    "\n",
    "    choice = int(input(\"Выберите одно из этих значений: \"))\n",
    "\n",
    "    if choice == 0:\n",
    "        break\n",
    "    elif choice == 1:\n",
    "        element = input(\"Введите элемент для добавления: \")\n",
    "        my_list_operations.add_element(element)\n",
    "    elif choice == 2:\n",
    "        element = input(\"Введите элемент для удаления: \")\n",
    "        my_list_operations.remove_element(element)\n",
    "    elif choice == 3:\n",
    "        my_list_operations.display_list()\n",
    "    else:\n",
    "        print(\"Неверный выбор. Попробуйте снова.\")"
   ]
  },
  {
   "cell_type": "markdown",
   "metadata": {},
   "source": [
    "2. Используя класс People в качестве базового, создайте класс Сотрудник (Worker), имеющий свойства:\n",
    "\n",
    "• должность (post)\n",
    "\n",
    "• зарплата (salary)\n",
    "\n",
    "методы:\n",
    "\n",
    "• __init__ – конструктор;\n",
    "\n",
    "• __str__ – аналогично методу класса Teacher из примера.\n",
    "\n",
    "Используя класс Сотрудник в качестве базового создайте класс Преподаватель (Teacher), имеющий:\n",
    "\n",
    "• закрытый атрибут дисциплины (disciplines), в котором хранятся названия дисциплин, которые ведет преподаватель;\n",
    "\n",
    "• методы __init__ и __str__;\n",
    "\n",
    "• методы добавить_дисциплину (add_dis) и удалить_дисциплину (delete_dis), которые позволяют изменять список дисциплин.\n",
    "\n",
    "Создайте список, содержащий по 2 объекта каждого класса (People, Worker, Teacher). Для этого списка:\n",
    "\n",
    "• выведите информацию о каждом человеке с помощью метода info;\n",
    "\n",
    "• выведите фамилии тех, кто моложе 30 лет;\n",
    "\n",
    "• продемонстрируйте работу со свойствами должность и зарплата и методами добавить_дисциплину и удалить_дисциплину.\n"
   ]
  },
  {
   "cell_type": "code",
   "execution_count": 20,
   "metadata": {},
   "outputs": [
    {
     "name": "stdout",
     "output_type": "stream",
     "text": [
      "Имя: Иван Иванов, Возраст: 25\n",
      "Имя: Петр Петров, Возраст: 35\n",
      "Имя: Мария Сидорова, Возраст: 30\n",
      "Имя: Алексей Кузнецов, Возраст: 40\n",
      "Имя: Анна Соколова, Возраст: 45\n",
      "Имя: Сергей Романов, Возраст: 50\n",
      "\n",
      "Фамилии людей моложе 30 лет:\n",
      "Иванов\n",
      "\n",
      "Должность: Менеджер, Зарплата: 50000\n",
      "Дисциплины: Математика, Физика\n",
      "Дисциплины: Математика, Физика, Английский язык\n",
      "Дисциплины: Математика, Английский язык\n"
     ]
    }
   ],
   "source": [
    "# Решение 2\n",
    "class People:\n",
    "    def __init__(self, name, age):\n",
    "        self.name = name\n",
    "        self.age = age\n",
    "    \n",
    "    def info(self):\n",
    "        print(f\"Имя: {self.name}, Возраст: {self.age}\")\n",
    "\n",
    "class Worker(People):\n",
    "    def __init__(self, name, age, post, salary):\n",
    "        super().__init__(name, age)\n",
    "        self.post = post\n",
    "        self.salary = salary\n",
    "    \n",
    "    def __str__(self):\n",
    "        return f\"{self.name}, {self.post}, Зарплата: {self.salary}\"\n",
    "\n",
    "class Teacher(Worker):\n",
    "    def __init__(self, name, age, post, salary, disciplines):\n",
    "        super().__init__(name, age, post, salary)\n",
    "        self.disciplines = disciplines\n",
    "    \n",
    "    def __str__(self):\n",
    "        return f\"{self.name}, {self.post}, Зарплата: {self.salary}, Дисциплины: {', '.join(self.__disciplines)}\"\n",
    "    \n",
    "    def add_dis(self, discipline):\n",
    "        self.disciplines.append(discipline)\n",
    "\n",
    "    def delete_dis(self, discipline):\n",
    "        self.disciplines.remove(discipline)\n",
    "\n",
    "# Создаем список людей\n",
    "people = [\n",
    "    People(\"Иван Иванов\", 25),\n",
    "    People(\"Петр Петров\", 35),\n",
    "    Worker(\"Мария Сидорова\", 30, \"Менеджер\", 50000),\n",
    "    Worker(\"Алексей Кузнецов\", 40, \"Бухгалтер\", 60000),\n",
    "    Teacher(\"Анна Соколова\", 45, \"Преподаватель\", 70000, [\"Математика\", \"Физика\"]),\n",
    "    Teacher(\"Сергей Романов\", 50, \"Профессор\", 90000, [\"Информатика\", \"Программирование\"])\n",
    "]\n",
    "\n",
    "# Выводим информацию о каждом человеке\n",
    "for person in people:\n",
    "    person.info()\n",
    "\n",
    "# Выводим фамилии тех, кто моложе 30 лет\n",
    "print(\"\\nФамилии людей моложе 30 лет:\")\n",
    "for person in people:\n",
    "    if person.age < 30:\n",
    "        print(person.name.split()[1])\n",
    "\n",
    "# Демонстрация работы с должностью, зарплатой и дисциплинами\n",
    "worker = people[2]\n",
    "print(f\"\\nДолжность: {worker.post}, Зарплата: {worker.salary}\")\n",
    "\n",
    "teacher = people[4]\n",
    "print(f\"Дисциплины: {', '.join(teacher.disciplines)}\")\n",
    "teacher.add_dis(\"Английский язык\")\n",
    "print(f\"Дисциплины: {', '.join(teacher.disciplines)}\")\n",
    "teacher.delete_dis(\"Физика\")\n",
    "print(f\"Дисциплины: {', '.join(teacher.disciplines)}\")"
   ]
  },
  {
   "cell_type": "markdown",
   "metadata": {},
   "source": [
    "3.Создайте класс Заказ(Order), у которого есть свойства кодтовара(code), цена(price), количество(count) и методы _init и str.\n",
    "\n",
    "Создайте 2 класса-потомка: Опт(Opt) и Розница(Retail). В этих классах создайте методы init, str.и сумма_заказа(summa), позволяющий узнать стоимость заказа. Для опта стоимость единицы товара составляет 95% от цены, а при покупке более 500 штук – 90% цены. В розницу стоимость единицы товара составляет 100% цены. Стоимость заказа равна произведению цены на количество.\n",
    "\n",
    "Продемонстрируйте работу с классами, создав необходимые объекты и обратившись к их свойствам и методам"
   ]
  },
  {
   "cell_type": "code",
   "execution_count": 5,
   "metadata": {},
   "outputs": [
    {
     "name": "stdout",
     "output_type": "stream",
     "text": [
      "Код товара: 1, Цена: 100, Количество: 600\n",
      "Код товара: 2, Цена: 50, Количество: 10\n",
      "Общая стоимость оптового заказа 54000.0\n",
      "Общая стоимость розничного заказа 500\n"
     ]
    }
   ],
   "source": [
    "# Решение 3\n",
    "class Order:\n",
    "    def __init__(self, code, price, count):\n",
    "        self.code = code\n",
    "        self.price = price\n",
    "        self.count = count\n",
    "\n",
    "    def __str__(self):\n",
    "        return f\"Код товара: {self.code}, Цена: {self.price}, Количество: {self.count}\"\n",
    "\n",
    "class Opt(Order):\n",
    "    def __init__(self, code, price, count):\n",
    "        super().__init__(code, price, count)\n",
    "\n",
    "    def __str__(self):\n",
    "        return f\"Код товара: {self.code}, Цена: {self.price}, Количество: {self.count}\"\n",
    "\n",
    "    def summa(self):\n",
    "        if self.count > 500:\n",
    "            return self.price * self.count * 0.9\n",
    "        else:\n",
    "            return self.price * self.count * 0.95\n",
    "\n",
    "class Retail(Order):\n",
    "    def __init__(self, code, price, count):\n",
    "        super().__init__(code, price, count)\n",
    "\n",
    "    def __str__(self):\n",
    "        return f\"Код товара: {self.code}, Цена: {self.price}, Количество: {self.count}\"\n",
    "\n",
    "    def summa(self):\n",
    "        return self.price * self.count\n",
    "\n",
    "# Создаем объекты\n",
    "order1 = Opt(1, 100, 600)\n",
    "order2 = Retail(2, 50, 10)\n",
    "\n",
    "# Вывод информации о заказах\n",
    "print(order1)\n",
    "print(order2)\n",
    "\n",
    "# Расчет стоимости заказа\n",
    "print(\"Общая стоимость оптового заказа\", order1.summa())\n",
    "print(\"Общая стоимость розничного заказа\", order2.summa())"
   ]
  },
  {
   "cell_type": "markdown",
   "metadata": {},
   "source": [
    "4.Написать функцию-генератор my_func_2(lst), которая принимает объект, поддерживающий итерации с произвольным уровнем вложенности, и возвращает все элементы по одному."
   ]
  },
  {
   "cell_type": "code",
   "execution_count": 2,
   "metadata": {},
   "outputs": [
    {
     "name": "stdout",
     "output_type": "stream",
     "text": [
      "1\n",
      "2\n",
      "3\n",
      "4\n",
      "5\n",
      "6\n"
     ]
    }
   ],
   "source": [
    "# Решение 4.\n",
    "def my_func_2(lst):\n",
    "    if isinstance(lst, dict):\n",
    "        for key in lst:\n",
    "            yield key\n",
    "            yield from my_func_2(lst[key])\n",
    "    elif isinstance(lst, (list, tuple, set)):\n",
    "        for val in lst:\n",
    "            yield from my_func_2(val)\n",
    "    else:\n",
    "        yield lst\n",
    "\n",
    "# Пример использования\n",
    "nested_list = [1, [2, [3, 4], 5], 6]\n",
    "for element in my_func_2(nested_list):\n",
    "    print(element)"
   ]
  },
  {
   "cell_type": "markdown",
   "metadata": {},
   "source": [
    "5.С помощью механизма map/filter/reduce (хотя бы одна из этих функций должна быть использована в решении) посчитать в тексте количество слов, состоящих не менее, чем из 3-х букв. Слова в тексте разделены пробелами. Написать реализацию в одну строку. Оформить решение в виде функции my_func_3(text), т.е. шаблон таков:\n",
    "\n",
    "строка с import, если необходимо def my_func_3(text): return # однострочная реализация задания"
   ]
  },
  {
   "cell_type": "code",
   "execution_count": 12,
   "metadata": {},
   "outputs": [
    {
     "name": "stdout",
     "output_type": "stream",
     "text": [
      "6\n"
     ]
    }
   ],
   "source": [
    "# Решение 5.\n",
    "def my_func_3(text):\n",
    "    return len(list(filter(lambda x: len(x) >= 3, text.split())))\n",
    "print(my_func_3('Привет, как дела? Привет, у меня хорошо!'))"
   ]
  },
  {
   "cell_type": "code",
   "execution_count": null,
   "metadata": {},
   "outputs": [],
   "source": []
  }
 ],
 "metadata": {
  "kernelspec": {
   "display_name": "Python 3 (ipykernel)",
   "language": "python",
   "name": "python3"
  },
  "language_info": {
   "codemirror_mode": {
    "name": "ipython",
    "version": 3
   },
   "file_extension": ".py",
   "mimetype": "text/x-python",
   "name": "python",
   "nbconvert_exporter": "python",
   "pygments_lexer": "ipython3",
   "version": "3.11.5"
  }
 },
 "nbformat": 4,
 "nbformat_minor": 4
}
